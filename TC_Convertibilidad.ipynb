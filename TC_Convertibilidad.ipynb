{
 "cells": [
  {
   "cell_type": "markdown",
   "id": "e213b635",
   "metadata": {},
   "source": [
    "# Importación de librerías."
   ]
  },
  {
   "cell_type": "code",
   "execution_count": null,
   "id": "18a3b567",
   "metadata": {},
   "outputs": [],
   "source": [
    "import requests\n",
    "import pdfplumber\n",
    "import json\n",
    "import pandas as pd"
   ]
  },
  {
   "cell_type": "markdown",
   "id": "abfc41c4",
   "metadata": {},
   "source": [
    "# Descarga de datos del BCRA."
   ]
  },
  {
   "cell_type": "code",
   "execution_count": null,
   "id": "161b1543",
   "metadata": {},
   "outputs": [],
   "source": [
    "url = \"https://www.bcra.gob.ar/Pdfs/PublicacionesEstadisticas/infomondiae.pdf\"\n",
    "\n",
    "response = requests.get(url)\n",
    "\n",
    "with open(\"InformeBCRA.pdf\", \"wb\") as f:\n",
    "    f.write(response.content)"
   ]
  },
  {
   "cell_type": "markdown",
   "id": "ad587702",
   "metadata": {},
   "source": [
    "# Se busca el precio del dólar blue y oficial."
   ]
  },
  {
   "cell_type": "code",
   "execution_count": null,
   "id": "353cfb0c",
   "metadata": {},
   "outputs": [],
   "source": [
    "response = requests.get(\"https://api.bluelytics.com.ar/v2/evolution.json\")\n",
    "\n",
    "data = json.loads(response.text)\n",
    "df = pd.DataFrame(data)\n",
    "registro_blue = df[df[\"source\"]==\"Blue\"].iloc[0]\n",
    "dolar_blue = (registro_blue[\"value_sell\"] + registro_blue[\"value_buy\"])/2\n",
    "registro_oficial = df[df[\"source\"]==\"Oficial\"].iloc[0]\n",
    "dolar_oficial = (registro_oficial[\"value_sell\"] + registro_oficial[\"value_buy\"])/2"
   ]
  },
  {
   "cell_type": "markdown",
   "id": "9883cb4b",
   "metadata": {},
   "source": [
    "# Abre el archivo PDF con pdfplumber. Se extraen tablas y datos de estas."
   ]
  },
  {
   "cell_type": "code",
   "execution_count": null,
   "id": "dd019b61",
   "metadata": {},
   "outputs": [],
   "source": [
    "with pdfplumber.open(\"InformeBCRA.pdf\") as pdf:\n",
    "    pages = pdf.pages\n",
    "    tables = pages[3].extract_tables()[0]\n",
    "\n",
    "    base_monetaria = float(tables[22][0].split()[2].replace(\",\", \"\"))\n",
    "    leliqs = float(tables[26][0].split()[4].replace(\",\", \"\"))\n",
    "    legar = float(tables[28][0].split()[4].replace(\",\", \"\"))\n",
    "    pases = float(tables[30][0].split()[2].replace(\",\", \"\"))\n",
    "    reservas = float(tables[36][0].split(\"\\n\")[-2].split()[3].replace(\",\", \"\"))\n",
    "    adelantos = float(tables[35][0].split()[5].replace(\",\", \"\"))\n",
    "    fecha = tables[20][2]\n",
    "    fecha_real = tables[0][0]\n",
    "\n",
    "    agregado1 = base_monetaria + leliqs + legar + pases\n",
    "    agregado2 = base_monetaria + leliqs\n",
    "    agregado3 = base_monetaria + legar + pases\n",
    "\n",
    "    tables = pages[4].extract_tables()[-1]\n",
    "    M3 = float(tables[34][0].split()[-11].replace(\",\", \"\"))\n",
    "    M2 = float(tables[33][0].split()[-9].replace(\",\", \"\"))\n",
    "    M1 = float(tables[32][0].split()[-11].replace(\",\", \"\"))"
   ]
  },
  {
   "cell_type": "markdown",
   "id": "f5e3bc17",
   "metadata": {},
   "source": [
    "# Se imprimen por pantalla los resultados."
   ]
  },
  {
   "cell_type": "code",
   "execution_count": null,
   "id": "c1727892",
   "metadata": {},
   "outputs": [],
   "source": [
    "    print(fecha_real + f\"  --  Saldos al {fecha}\")\n",
    "    print()\n",
    "    print(f\"Dólar de convertibilidad = $ {agregado1 / reservas:.2f}\")\n",
    "    print(f\"Diferencia contra blue = $ {agregado1 / reservas - dolar_blue:.2f}  {((agregado1 / reservas - dolar_blue) / dolar_blue * 100):.2f} %\")\n",
    "    print()\n",
    "    print(f\"Dólar Blue = $ {dolar_blue}\")\n",
    "    print()\n",
    "    print(f\"Dólar \\\"BNA\\\" = $ {agregado3 / reservas:.2f}\")\n",
    "    print(f\"Dólar BNA = $ {dolar_oficial}\")\n",
    "    print(f\"Diferencia = $ {agregado3 / reservas - dolar_oficial:.2f}  {((agregado3 / reservas - dolar_oficial) / dolar_oficial) * 100:.2f} %\")\n",
    "    print()\n",
    "    print(f\"Dólar \\\"BANCOS\\\" = $ {agregado2 / reservas:.2f}\")\n",
    "    print()\n",
    "    print(f\"Multiplicador (M1): {M1 / base_monetaria:.2f}\")\n",
    "    print(f\"Multiplicador (M2): {M2 / base_monetaria:.2f}\")\n",
    "    print(f\"Multiplicador (M3): {M3 / base_monetaria:.2f}\")\n",
    "    print()\n",
    "    print(f\"Pasivos remunerados en términos de la BM: {(agregado1 - base_monetaria) / base_monetaria:.2f} veces\")\n",
    "    print()\n",
    "    print(f\"Base Monetaria = $ {base_monetaria:_.0f}\")\n",
    "    print(f\"Adelantos al sector público = $ {adelantos:_.0f}\")\n",
    "    print(f\"Leliqs = $ {leliqs:_.0f}\")\n",
    "    print(f\"Otras letras = $ {legar:_.0f}\")\n",
    "    print(f\"Pases pasivos = $ {pases:_.0f}\")\n",
    "    print(f\"Reservas = U$S {reservas:_.0f}\")"
   ]
  }
 ],
 "metadata": {
  "kernelspec": {
   "display_name": "Python 3 (ipykernel)",
   "language": "python",
   "name": "python3"
  },
  "language_info": {
   "codemirror_mode": {
    "name": "ipython",
    "version": 3
   },
   "file_extension": ".py",
   "mimetype": "text/x-python",
   "name": "python",
   "nbconvert_exporter": "python",
   "pygments_lexer": "ipython3",
   "version": "3.10.7"
  }
 },
 "nbformat": 4,
 "nbformat_minor": 5
}
