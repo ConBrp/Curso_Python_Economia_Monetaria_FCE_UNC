{
 "cells": [
  {
   "cell_type": "markdown",
   "id": "ce539d71",
   "metadata": {},
   "source": [
    "# Importación de librerías. "
   ]
  },
  {
   "cell_type": "code",
   "execution_count": null,
   "id": "b014e16b",
   "metadata": {},
   "outputs": [],
   "source": [
    "import pandas as pd\n",
    "import json\n",
    "import requests\n",
    "import openpyxl\n",
    "from openpyxl.chart import LineChart, Reference, Series"
   ]
  },
  {
   "cell_type": "markdown",
   "id": "eed91fa9",
   "metadata": {},
   "source": [
    "# Descarga de cotizaciones dólar blue."
   ]
  },
  {
   "cell_type": "code",
   "execution_count": null,
   "id": "7de14a6f",
   "metadata": {},
   "outputs": [],
   "source": [
    "response = requests.get(\"https://api.bluelytics.com.ar/v2/evolution.json\")\n",
    "data = json.loads(response.text)\n",
    "blue = pd.DataFrame(data)\n",
    "blue = blue[blue[\"source\"]==\"Blue\"]\n",
    "\n",
    "blue = blue.drop(\"source\", axis=1) \n",
    "\n",
    "blue[\"Precio\"] = (blue[\"value_sell\"] + blue[\"value_buy\"])/2\n",
    "blue[\"date\"] = pd.to_datetime(blue[\"date\"])\n",
    "blue.columns = [\"Fecha\", \"Venta\", \"Compra\", \"Promedio\"]"
   ]
  },
  {
   "cell_type": "code",
   "execution_count": null,
   "id": "c193a265",
   "metadata": {},
   "outputs": [],
   "source": [
    "df = pd.read_excel(\"https://www.bcra.gob.ar/Pdfs/PublicacionesEstadisticas/series.xlsm\", header=[0, 1, 2, 3, 4, 5, 6, 7, 8], sheet_name=[\"RESERVAS\", \"BASE MONETARIA\", \"INSTRUMENTOS DEL BCRA\"])\n",
    "df[\"RESERVAS\"].columns = [str(i) for i in range(1, len(df[\"RESERVAS\"].columns) + 1)]\n",
    "reservas = df[\"RESERVAS\"][df[\"RESERVAS\"][\"17\"] == \"D\"][[\"1\", \"3\", \"16\"]].copy().reset_index(drop=1)\n",
    "reservas.columns = [\"Fecha\", \"Reservas\", \"TCOficial\"]"
   ]
  },
  {
   "cell_type": "code",
   "execution_count": null,
   "id": "7b37af7a",
   "metadata": {},
   "outputs": [],
   "source": [
    "df[\"BASE MONETARIA\"].columns = [str(i) for i in range(1, len(df[\"BASE MONETARIA\"].columns) + 1)]\n",
    "base = df[\"BASE MONETARIA\"][df[\"BASE MONETARIA\"][\"32\"] == \"D\"][[\"1\", \"29\"]].copy().reset_index(drop=1)\n",
    "base.columns = [\"Fecha\", \"Base Monetaria\"]"
   ]
  },
  {
   "cell_type": "code",
   "execution_count": null,
   "id": "0521084c",
   "metadata": {},
   "outputs": [],
   "source": [
    "df[\"INSTRUMENTOS DEL BCRA\"].columns = [str(i) for i in range(1, len(df[\"INSTRUMENTOS DEL BCRA\"].columns) + 1)]\n",
    "pasivos = df[\"INSTRUMENTOS DEL BCRA\"][[\"1\", \"2\", \"4\", \"5\", \"6\", \"7\", \"8\"]].copy()\n",
    "pasivos.columns = [\"Fecha\", \"PasesPasivos\", \"PasesActivos\", \"Leliq\", \"Lebac\", \"NOCOM\", \"LevidUSD\"]"
   ]
  },
  {
   "cell_type": "code",
   "execution_count": null,
   "id": "ba2ea8f2",
   "metadata": {},
   "outputs": [],
   "source": [
    "dolar = pd.merge(pd.merge(base, reservas, on=\"Fecha\", how=\"inner\"), pasivos, on=\"Fecha\", how=\"inner\")"
   ]
  },
  {
   "cell_type": "code",
   "execution_count": null,
   "id": "cc5b1733",
   "metadata": {},
   "outputs": [],
   "source": [
    "dolar[\"LevidPesos\"] = dolar[\"LevidUSD\"] * dolar[\"TCOficial\"]\n",
    "dolar[\"PasesPasivos\"] = pd.to_numeric(dolar[\"PasesPasivos\"], errors='coerce')\n",
    "dolar[\"PasesActivos\"] = pd.to_numeric(dolar[\"PasesActivos\"], errors='coerce')\n",
    "dolar[\"Leliq\"] = pd.to_numeric(dolar[\"Leliq\"], errors='coerce')\n",
    "dolar[\"Lebac\"] = pd.to_numeric(dolar[\"Lebac\"], errors='coerce')\n",
    "dolar[\"NOCOM\"] = pd.to_numeric(dolar[\"NOCOM\"], errors='coerce')\n",
    "dolar = dolar.fillna(0)"
   ]
  },
  {
   "cell_type": "code",
   "execution_count": null,
   "id": "03b63b6c",
   "metadata": {},
   "outputs": [],
   "source": [
    "dolar[\"Pasivos\"] = dolar[\"Base Monetaria\"] + dolar[\"PasesPasivos\"] - dolar[\"PasesActivos\"] + dolar[\"Leliq\"] + dolar[\"Lebac\"] + dolar[\"LevidPesos\"]\n",
    "\n",
    "dolar[\"Dolar\"] = dolar[\"Pasivos\"] / dolar[\"Reservas\"]"
   ]
  },
  {
   "cell_type": "code",
   "execution_count": null,
   "id": "4acaf384",
   "metadata": {},
   "outputs": [],
   "source": [
    "final = pd.merge(dolar, blue, on=\"Fecha\", how=\"inner\")[[\"Fecha\", \"Dolar\", \"Venta\"]].copy().reset_index(drop=1)\n",
    "final[\"Ratio\"] = final[\"Dolar\"]/final[\"Venta\"]\n",
    "\n",
    "final[\"Fecha\"] = final[\"Fecha\"].dt.strftime(\"%d/%m/%Y\")\n",
    "\n",
    "final.to_excel(\"TC_Convertibilidad_Excel.xlsx\", index=False, sheet_name=\"Datos\")"
   ]
  },
  {
   "cell_type": "code",
   "execution_count": null,
   "id": "841e52bf",
   "metadata": {},
   "outputs": [],
   "source": [
    "archivo_excel = openpyxl.load_workbook(\"TC_Convertibilidad_Excel.xlsx\")\n",
    "hoja_datos = archivo_excel['Datos']"
   ]
  },
  {
   "cell_type": "code",
   "execution_count": null,
   "id": "3529deaf",
   "metadata": {},
   "outputs": [],
   "source": [
    "datos_referencia_1 = Reference(hoja_datos,\n",
    "                               min_col=2,\n",
    "                               min_row=len(hoja_datos[\"B\"])*.85,\n",
    "                               max_row=len(hoja_datos[\"B\"]))\n",
    "\n",
    "serie_1 = Series(datos_referencia_1, title=\"Dólar Convertibilidad\")\n",
    "\n",
    "datos_referencia_2 = Reference(hoja_datos,\n",
    "                               min_col=3,\n",
    "                               min_row=len(hoja_datos[\"C\"])*.85,\n",
    "                               max_row=len(hoja_datos[\"C\"]))\n",
    "\n",
    "serie_2 = Series(datos_referencia_2, title=\"Dólar Blue\")\n",
    "\n",
    "datos_referencia_3 = Reference(hoja_datos,\n",
    "                               min_col=4,\n",
    "                               min_row=len(hoja_datos[\"D\"])*.85,\n",
    "                               max_row=len(hoja_datos[\"D\"]))\n",
    "\n",
    "serie_3 = Series(datos_referencia_3, title=\"Ratio\")"
   ]
  },
  {
   "cell_type": "code",
   "execution_count": null,
   "id": "6fa515ab",
   "metadata": {},
   "outputs": [],
   "source": [
    "grafico = LineChart()\n",
    "grafico.title = \"Dólar Convertibilidad\"\n",
    "grafico.x_axis.title = \"Fecha\"\n",
    "grafico.y_axis.title = \"Pesos\"\n",
    "grafico.height = 15\n",
    "grafico.width = 30\n",
    "grafico.legend.position = \"b\"\n",
    "grafico.style = 4"
   ]
  },
  {
   "cell_type": "code",
   "execution_count": null,
   "id": "dc8fd7eb",
   "metadata": {},
   "outputs": [],
   "source": [
    "grafico2 = LineChart()\n",
    "grafico2.title = \"Ratio Convertibilidad\"\n",
    "grafico2.x_axis.title = \"Fecha\"\n",
    "grafico2.y_axis.title = \"Ratio\"\n",
    "grafico2.height = 15\n",
    "grafico2.width = 30\n",
    "grafico2.legend.position = \"b\"\n",
    "grafico2.style = 7"
   ]
  },
  {
   "cell_type": "markdown",
   "id": "21b11025",
   "metadata": {},
   "source": [
    "### Agregar las series a los gráficos."
   ]
  },
  {
   "cell_type": "code",
   "execution_count": null,
   "id": "49ae83d1",
   "metadata": {},
   "outputs": [],
   "source": [
    "grafico.series.append(serie_1)\n",
    "\n",
    "grafico.series.append(serie_2)\n",
    "\n",
    "grafico2.series.append(serie_3)"
   ]
  },
  {
   "cell_type": "markdown",
   "id": "8c78cfa3",
   "metadata": {},
   "source": [
    "### Crear las categorías, eje X. Luego agregarlas a los gráficos."
   ]
  },
  {
   "cell_type": "code",
   "execution_count": null,
   "id": "6e48db6a",
   "metadata": {},
   "outputs": [],
   "source": [
    "categorias_referencia = Reference(hoja_datos,\n",
    "                                  min_col=1,\n",
    "                                  min_row=len(hoja_datos[\"A\"])*.85,\n",
    "                                  max_row=len(hoja_datos[\"A\"]))\n",
    "grafico.set_categories(categorias_referencia)\n",
    "grafico2.set_categories(categorias_referencia)"
   ]
  },
  {
   "cell_type": "markdown",
   "id": "52bbff30",
   "metadata": {},
   "source": [
    "### Agregar los gráficos a la hoja."
   ]
  },
  {
   "cell_type": "code",
   "execution_count": null,
   "id": "7ed7b4f8",
   "metadata": {},
   "outputs": [],
   "source": [
    "hoja_grafico = archivo_excel.create_sheet(title=\"Hoja del gráfico\")\n",
    "\n",
    "hoja_grafico.add_chart(grafico, \"A1\")\n",
    "hoja_grafico.add_chart(grafico2, \"A30\")"
   ]
  },
  {
   "cell_type": "markdown",
   "id": "12e0ee82",
   "metadata": {},
   "source": [
    "### Guardar los cambios."
   ]
  },
  {
   "cell_type": "code",
   "execution_count": null,
   "id": "d93f5cd4",
   "metadata": {},
   "outputs": [],
   "source": [
    "archivo_excel.save('TC_Convertibilidad_Excel.xlsx')"
   ]
  },
  {
   "cell_type": "code",
   "execution_count": null,
   "id": "3c2627ca",
   "metadata": {},
   "outputs": [],
   "source": []
  }
 ],
 "metadata": {
  "kernelspec": {
   "display_name": "Python 3 (ipykernel)",
   "language": "python",
   "name": "python3"
  },
  "language_info": {
   "codemirror_mode": {
    "name": "ipython",
    "version": 3
   },
   "file_extension": ".py",
   "mimetype": "text/x-python",
   "name": "python",
   "nbconvert_exporter": "python",
   "pygments_lexer": "ipython3",
   "version": "3.10.7"
  }
 },
 "nbformat": 4,
 "nbformat_minor": 5
}
