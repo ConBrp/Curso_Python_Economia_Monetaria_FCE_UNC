{
 "cells": [
  {
   "cell_type": "code",
   "execution_count": null,
   "id": "cd03f495",
   "metadata": {},
   "outputs": [],
   "source": [
    "import pandas as pd\n",
    "import json\n",
    "import requests\n",
    "import datetime\n",
    "from openpyxl import load_workbook\n",
    "from openpyxl.drawing.image import Image\n",
    "from openpyxl.chart import LineChart, Reference, Series\n",
    "from openpyxl.styles import Font, PatternFill"
   ]
  },
  {
   "cell_type": "code",
   "execution_count": null,
   "id": "ac9cd2b5",
   "metadata": {},
   "outputs": [],
   "source": [
    "df = pd.read_excel(\"https://www.bcra.gob.ar/Pdfs/PublicacionesEstadisticas/ITCRMSerie.xlsx\", header=[1], sheet_name=[\"ITCRM y bilaterales\", \"ITCRM y bilaterales prom. mens.\"])"
   ]
  },
  {
   "cell_type": "code",
   "execution_count": null,
   "id": "9ba3366b",
   "metadata": {},
   "outputs": [],
   "source": [
    "TCRD = df[\"ITCRM y bilaterales\"][[\"Período\", \"ITCRM \"]].dropna().copy()\n",
    "TCRM = df[\"ITCRM y bilaterales prom. mens.\"][[\"Período\", \"ITCRM \"]].dropna().copy()"
   ]
  },
  {
   "cell_type": "code",
   "execution_count": null,
   "id": "cb37c9d1",
   "metadata": {},
   "outputs": [],
   "source": [
    "TCRD[\"Período\"] = pd.to_datetime(TCRD[\"Período\"])\n",
    "TCRD[\"Dia\"] = TCRD[\"Período\"].dt.day\n",
    "TCRD[\"Mes\"] = TCRD[\"Período\"].dt.month\n",
    "TCRD[\"Año\"] = TCRD[\"Período\"].dt.year\n",
    "TCRD[\"Date\"] = TCRD[\"Mes\"].astype(str) + '-' + TCRD[\"Año\"].astype(str)\n",
    "TCRD[\"Date\"] = pd.to_datetime(TCRD['Date'], format='%m-%Y').dt.strftime(\"%m-%Y\")"
   ]
  },
  {
   "cell_type": "code",
   "execution_count": null,
   "id": "3a6f0085",
   "metadata": {},
   "outputs": [],
   "source": [
    "TCRM[\"Período\"] = pd.to_datetime(TCRM[\"Período\"])\n",
    "TCRM[\"Dia\"] = TCRM[\"Período\"].dt.day\n",
    "TCRM[\"Mes\"] = TCRM[\"Período\"].dt.month\n",
    "TCRM[\"Año\"] = TCRM[\"Período\"].dt.year\n",
    "TCRM[\"Date\"] = TCRM[\"Mes\"].astype(str) + '-' + TCRM[\"Año\"].astype(str)\n",
    "TCRM[\"Date\"] = pd.to_datetime(TCRM['Date'], format='%m-%Y').dt.strftime(\"%m-%Y\")"
   ]
  },
  {
   "cell_type": "code",
   "execution_count": null,
   "id": "982ae35b",
   "metadata": {},
   "outputs": [],
   "source": [
    "# IPC = pd.read_excel(\"https://www.ieric.org.ar/wp-content/uploads/2024/01/IPC-Prov-San-Luis.xlsx\", header=3)[[\"Periodo\",\"Nivel General\"]].dropna().copy()\n",
    "IPC = pd.read_excel(\"https://www.ieric.org.ar/wp-content/uploads/2020/01/IPC-Prov-San-Luis.xlsx\", header=3)[[\"Periodo\",\"Nivel General\"]].dropna().copy()"
   ]
  },
  {
   "cell_type": "code",
   "execution_count": null,
   "id": "2feb4583",
   "metadata": {
    "scrolled": true
   },
   "outputs": [],
   "source": [
    "IPC[\"Periodo\"] = pd.to_datetime(IPC[\"Periodo\"])\n",
    "IPC[\"Dia\"] = IPC[\"Periodo\"].dt.day\n",
    "IPC[\"Mes\"] = IPC[\"Periodo\"].dt.month\n",
    "IPC[\"Año\"] = IPC[\"Periodo\"].dt.year\n",
    "IPC[\"Date\"] = IPC[\"Mes\"].astype(str) + '-' + IPC[\"Año\"].astype(str)\n",
    "IPC[\"Date\"] = pd.to_datetime(IPC['Date'], format='%m-%Y').dt.strftime(\"%m-%Y\")\n",
    "IPC = IPC[[\"Nivel General\", \"Date\"]].copy()\n",
    "IPC.columns = [\"IPC\", \"Date\"]"
   ]
  },
  {
   "cell_type": "code",
   "execution_count": null,
   "id": "5b144583",
   "metadata": {},
   "outputs": [],
   "source": [
    "headers = {'Content-type': 'application/json'}\n",
    "inicio = 2005\n",
    "final = datetime.date.today().year\n",
    "CPIUS = pd.DataFrame(columns=[\"Año\", \"CPI\", \"Mes\", \"Date\"])\n",
    "while inicio<=final:\n",
    "    data = json.dumps({\"seriesid\": ['CUUR0000SA0'],\"startyear\":str(inicio), \"endyear\":str(inicio+9)})\n",
    "    response = requests.post('https://api.bls.gov/publicAPI/v2/timeseries/data/', data=data, headers=headers)\n",
    "    json_data = json.loads(response.text)\n",
    "    if not json_data[\"Results\"][\"series\"][0][\"data\"]:\n",
    "        break\n",
    "    CPI = pd.DataFrame(json_data[\"Results\"][\"series\"][0][\"data\"]).iloc[:,:-1]\n",
    "    CPI[\"Mes\"] = CPI[\"period\"].apply(lambda x: x[1:])\n",
    "    CPI = CPI[[\"year\", \"value\", \"Mes\"]].copy()\n",
    "    CPI.columns = [\"Año\", \"CPI\", \"Mes\"]\n",
    "    CPI[\"Date\"] = CPI[\"Mes\"].astype(str) + '-' + CPI[\"Año\"].astype(str)\n",
    "    CPI[\"Date\"] = pd.to_datetime(CPI['Date'], format='%m-%Y').dt.strftime(\"%m-%Y\")\n",
    "    CPIUS = pd.concat([CPI, CPIUS], ignore_index=True)\n",
    "    inicio = int(CPI.iloc[0][\"Año\"])\n",
    "    inicio+=1"
   ]
  },
  {
   "cell_type": "code",
   "execution_count": null,
   "id": "6b472e88",
   "metadata": {},
   "outputs": [],
   "source": [
    "CPIUS = CPIUS[[\"CPI\", \"Date\"]].copy()\n",
    "CPIUS[\"CPI\"] = pd.to_numeric(CPIUS[\"CPI\"])"
   ]
  },
  {
   "cell_type": "code",
   "execution_count": null,
   "id": "f915a387",
   "metadata": {},
   "outputs": [],
   "source": [
    "infla = pd.merge(IPC, CPIUS, how=\"inner\", on=\"Date\")\n",
    "infla[\"InflaMensualAr\"] = infla[\"IPC\"].pct_change()\n",
    "infla[\"InflaMensualUS\"] = infla[\"CPI\"].pct_change()"
   ]
  },
  {
   "cell_type": "code",
   "execution_count": null,
   "id": "11b6778c",
   "metadata": {},
   "outputs": [],
   "source": [
    "infla = infla[[\"Date\", \"IPC\", \"InflaMensualAr\", \"CPI\", \"InflaMensualUS\"]]\n",
    "infla.columns = [\"Mes IPC/CPI\", \"IPC\", \"InflaMensualAr\", \"CPI\", \"InflaMensualUS\"]\n",
    "infla[\"Mes IPC/CPI\"] = pd.to_datetime(infla[\"Mes IPC/CPI\"])"
   ]
  },
  {
   "cell_type": "code",
   "execution_count": null,
   "id": "eece3f8f",
   "metadata": {},
   "outputs": [],
   "source": [
    "infla.to_excel(\"TCR.xlsx\", sheet_name=\"Datos\", index=False, startcol=5)"
   ]
  },
  {
   "cell_type": "code",
   "execution_count": null,
   "id": "a4bbf64b",
   "metadata": {},
   "outputs": [],
   "source": [
    "df = pd.read_excel(\"https://www.bcra.gob.ar/Pdfs/PublicacionesEstadisticas/series.xlsm\", header=[0, 1, 2, 3, 4, 5, 6, 7, 8], sheet_name=\"RESERVAS\")\n",
    "df.columns = [str(i) for i in range(1, len(df.columns) + 1)]"
   ]
  },
  {
   "cell_type": "code",
   "execution_count": null,
   "id": "57e197ee",
   "metadata": {},
   "outputs": [],
   "source": [
    "TCN = df[df[\"17\"]==\"D\"][[\"1\", \"16\"]].copy()\n",
    "\n",
    "TCN.columns = [\"Período\", \"TCN\"]\n",
    "\n",
    "TCRD = TCRD[[\"Período\", \"ITCRM \"]].copy()"
   ]
  },
  {
   "cell_type": "code",
   "execution_count": null,
   "id": "89ae3424",
   "metadata": {},
   "outputs": [],
   "source": [
    "TCRN = pd.merge(TCN, TCRD, how=\"inner\", on=\"Período\")"
   ]
  },
  {
   "cell_type": "code",
   "execution_count": null,
   "id": "8ebdd236",
   "metadata": {},
   "outputs": [],
   "source": [
    "TCRN.columns = [\"Fecha\", \"TCN\", \"ITCRM\"]\n",
    "TCRD.columns = [\"Fecha ITCRM\", \"ITCRM\"]\n",
    "TCRM = TCRM[[\"Date\", \"ITCRM \"]].copy()\n",
    "TCRM.columns = [\"Mes ITCRM\", \"ITCRM\"]"
   ]
  },
  {
   "cell_type": "code",
   "execution_count": null,
   "id": "db50852f",
   "metadata": {},
   "outputs": [],
   "source": [
    "with pd.ExcelWriter(\"TCR.xlsx\", mode='a', engine='openpyxl', if_sheet_exists=\"overlay\") as writer:\n",
    "    TCRN.to_excel(writer,startcol=0, sheet_name=\"Datos\", index=False, header=True)\n",
    "    TCRM.to_excel(writer,startcol=3, sheet_name=\"Datos\", index=False, header=True)"
   ]
  },
  {
   "cell_type": "code",
   "execution_count": null,
   "id": "2088f9fc",
   "metadata": {},
   "outputs": [],
   "source": [
    "wb = load_workbook('TCR.xlsx')\n",
    "sheet = wb[\"Datos\"]\n",
    "\n",
    "for celda in sheet['A']:\n",
    "    celda.number_format = 'd/m/yyyy'\n",
    "for celda in sheet['F']:\n",
    "    celda.number_format = 'm/yyyy'\n",
    "\n",
    "sheet = wb.create_sheet(\"Cálculos\")\n",
    "\n",
    "img = Image('formula.png')\n",
    "\n",
    "img.width = 600 * .75\n",
    "img.height = 200 * .75\n",
    "\n",
    "\n",
    "sheet.add_image(img, 'A1')\n",
    "\n",
    "wb.save('TCR.xlsx')"
   ]
  },
  {
   "cell_type": "code",
   "execution_count": null,
   "id": "ee060ce3",
   "metadata": {},
   "outputs": [],
   "source": [
    "wb = load_workbook('TCR.xlsx')\n",
    "sheet = wb[\"Datos\"]\n",
    "grafico = LineChart()\n",
    "grafico.title = \"Tipo de Cambio Real Multilateral\"\n",
    "grafico.x_axis.title = \"Fecha\"\n",
    "grafico.y_axis.title = \"Índice\"\n",
    "\n",
    "datos_referencia = Reference(sheet,\n",
    "                               min_col=3,\n",
    "                               min_row=2,\n",
    "                               max_row=len(sheet[\"C\"]))\n",
    "serie = Series(datos_referencia, title=\"ITCRM\")\n",
    "categorias_referencia = Reference(sheet,\n",
    "                                  min_col=1,\n",
    "                                  min_row=2,\n",
    "                                  max_row=len(sheet[\"C\"]))\n",
    "grafico.height = 15\n",
    "grafico.width = 30\n",
    "grafico.series.append(serie)\n",
    "grafico.set_categories(categorias_referencia)\n",
    "sheet.add_chart(grafico, \"L1\")\n",
    "\n",
    "for col in sheet.columns:\n",
    "    sheet.column_dimensions[col[0].column_letter].auto_size = True\n",
    "wb.save('TCR.xlsx')"
   ]
  },
  {
   "cell_type": "code",
   "execution_count": null,
   "id": "a3130be2",
   "metadata": {},
   "outputs": [],
   "source": [
    "wb = load_workbook('TCR.xlsx')\n",
    "sheet = wb[\"Cálculos\"]\n",
    "\n",
    "sheet[\"A9\"] = \"Por Fecha\"\n",
    "sheet[\"A9\"].font=Font(size=14,bold=True)\n",
    "sheet[\"A10\"] = \"Fecha Deseada\"\n",
    "sheet[\"A11\"] = \"TCN\"\n",
    "sheet[\"A12\"] = \"TCR\"\n",
    "\n",
    "sheet[\"A14\"] = \"TCR Último\"\n",
    "\n",
    "sheet[\"A17\"] = \"CPI Inicial\"\n",
    "sheet[\"A18\"] = \"IPC Inicial\"\n",
    "sheet[\"A19\"] = \"CPI Final\"\n",
    "sheet[\"A20\"] = \"IPC Final\"\n",
    "\n",
    "sheet[\"A22\"] = \"Por Valor\"\n",
    "sheet[\"A22\"].font=Font(size=14,bold=True)\n",
    "sheet[\"A23\"] = \"TCN\"\n",
    "sheet[\"A24\"] = \"TCR\"\n",
    "\n",
    "sheet[\"A26\"] = \"TCR Último\"\n",
    "\n",
    "sheet[\"A29\"] = \"CPI Inicial\"\n",
    "sheet[\"A30\"] = \"IPC Inicial\"\n",
    "sheet[\"A31\"] = \"CPI Final\"\n",
    "sheet[\"A32\"] = \"IPC Final\"\n",
    "\n",
    "sheet[\"B10\"].fill = PatternFill(start_color=\"0099CCFF\", end_color=\"0099CCFF\", fill_type=\"solid\")\n",
    "\n",
    "sheet[\"B11\"] = \"=VLOOKUP($B$10, Datos!A:C, 2)\"\n",
    "sheet[\"B12\"] = \"=VLOOKUP($B$10, Datos!A:C, 3)\"\n",
    "\n",
    "sheet[\"B14\"] = \"=VLOOKUP(MAX(Datos!C:C)+1, Datos!C:C, 1)\"\n",
    "\n",
    "sheet[\"B17\"] = \"=VLOOKUP($D$11, Datos!F:J, 4)\"\n",
    "sheet[\"B18\"] = \"=VLOOKUP($D$11, Datos!F:J, 2)\"\n",
    "sheet[\"B19\"].fill = PatternFill(start_color=\"0099CCFF\", end_color=\"0099CCFF\", fill_type=\"solid\")\n",
    "sheet[\"B20\"].fill = PatternFill(start_color=\"0099CCFF\", end_color=\"0099CCFF\", fill_type=\"solid\")\n",
    "\n",
    "sheet[\"B23\"].fill = PatternFill(start_color=\"0099CCFF\", end_color=\"0099CCFF\", fill_type=\"solid\")\n",
    "sheet[\"B24\"].fill = PatternFill(start_color=\"0099CCFF\", end_color=\"0099CCFF\", fill_type=\"solid\")\n",
    "\n",
    "sheet[\"B26\"] = \"=VLOOKUP(MAX(Datos!C:C)+1, Datos!C:C, 1)\"\n",
    "\n",
    "sheet[\"B29\"].fill = PatternFill(start_color=\"0099CCFF\", end_color=\"0099CCFF\", fill_type=\"solid\")\n",
    "sheet[\"B30\"].fill = PatternFill(start_color=\"0099CCFF\", end_color=\"0099CCFF\", fill_type=\"solid\")\n",
    "sheet[\"B31\"].fill = PatternFill(start_color=\"0099CCFF\", end_color=\"0099CCFF\", fill_type=\"solid\")\n",
    "sheet[\"B32\"].fill = PatternFill(start_color=\"0099CCFF\", end_color=\"0099CCFF\", fill_type=\"solid\")\n",
    "\n",
    "sheet[\"D10\"] = \"Mes IPC/CPI\"\n",
    "sheet[\"D11\"] = \"=DATE(YEAR(B10), MONTH(B10), 1)\"\n",
    "sheet[\"D11\"].number_format = 'm/yyyy'\n",
    "\n",
    "sheet[\"E14\"] = \"Variación TCN=\"\n",
    "sheet[\"E15\"] = \"=(F14-G14+H14)\"\n",
    "\n",
    "sheet[\"E17\"] = \"TCN a futuro\"\n",
    "\n",
    "sheet[\"E26\"] = \"Variación TCN=\"\n",
    "sheet[\"E27\"] = \"=(F26-G26+H26)\"\n",
    "\n",
    "sheet[\"E29\"] = \"TCN a futuro\"\n",
    "\n",
    "sheet[\"F14\"] = \"=B12/B14-1\"\n",
    "sheet[\"F17\"] = \"=B11*(1+E15)\"\n",
    "\n",
    "sheet[\"F26\"] = \"=B24/B26-1\"\n",
    "sheet[\"F29\"] = \"=B23*(1+E27)\"\n",
    "\n",
    "sheet[\"G14\"] = \"=B19/B17-1\"\n",
    "sheet[\"G26\"] = \"=B31/B29-1\"\n",
    "\n",
    "sheet[\"H1\"] = \"University of Michigan (Expected Change in Prices)\"\n",
    "sheet[\"H1\"].hyperlink = \"http://www.sca.isr.umich.edu/tables.html\"\n",
    "sheet[\"H1\"].font = Font(color=\"000000FF\", italic=True)\n",
    "sheet[\"H2\"] = \"OECD (Inflation forecast)\"\n",
    "sheet[\"H2\"].hyperlink = \"https://data.oecd.org/price/inflation-forecast.htm\"\n",
    "sheet[\"H2\"].font = Font(color=\"000000FF\", italic=True)\n",
    "sheet[\"H3\"] = \"BCRA (REM, Precios minoristas)\"\n",
    "sheet[\"H3\"].hyperlink = \"https://www.bcra.gob.ar/PublicacionesEstadisticas/REM-precios-minoristas.asp\"\n",
    "sheet[\"H3\"].font = Font(color=\"000000FF\", italic=True)\n",
    "\n",
    "\n",
    "sheet[\"H14\"] = \"=B20/B18-1\"\n",
    "sheet[\"H26\"] = \"=B32/B30-1\"\n",
    "\n",
    "\n",
    "sheet[\"F9\"] = \"Completar las celdas de este color.\"\n",
    "sheet[\"F9\"].fill = PatternFill(start_color=\"0099CCFF\", end_color=\"0099CCFF\", fill_type=\"solid\")\n",
    "sheet.merge_cells(\"F9:H9\")\n",
    "\n",
    "for col in sheet.columns:\n",
    "    sheet.column_dimensions[col[0].column_letter].auto_size = True\n",
    "\n",
    "wb.save('TCR.xlsx')"
   ]
  }
 ],
 "metadata": {
  "kernelspec": {
   "display_name": "Python 3 (ipykernel)",
   "language": "python",
   "name": "python3"
  },
  "language_info": {
   "codemirror_mode": {
    "name": "ipython",
    "version": 3
   },
   "file_extension": ".py",
   "mimetype": "text/x-python",
   "name": "python",
   "nbconvert_exporter": "python",
   "pygments_lexer": "ipython3",
   "version": "3.10.7"
  }
 },
 "nbformat": 4,
 "nbformat_minor": 5
}
